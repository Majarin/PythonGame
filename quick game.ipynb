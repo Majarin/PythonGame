{
 "cells": [
  {
   "cell_type": "code",
   "execution_count": null,
   "id": "b75e04ea",
   "metadata": {},
   "outputs": [],
   "source": []
  },
  {
   "cell_type": "code",
   "execution_count": null,
   "id": "bacd859c",
   "metadata": {},
   "outputs": [
    {
     "name": "stdout",
     "output_type": "stream",
     "text": [
      "info: Using primary monitor: Monitor(x=0, y=0, width=1920, height=1080, width_mm=509, height_mm=286, name='\\\\\\\\.\\\\DISPLAY1', is_primary=True)\n",
      "set window position: Vec2(192, 108)\n",
      "package_folder: c:\\Users\\LeonardDanielsenRørv\\AppData\\Local\\Programs\\Python\\Python313\\Lib\\site-packages\\ursina\n",
      "asset_folder: C:\\Users\\LeonardDanielsenRørv\\AppData\\Roaming\\Python\\Python313\\site-packages\n",
      "os: Windows\n",
      "development mode: True\n",
      "application successfully started\n",
      "info: changed aspect ratio: 1.778 -> 1.778\n",
      "Game Over\n"
     ]
    },
    {
     "ename": "SystemExit",
     "evalue": "",
     "output_type": "error",
     "traceback": [
      "An exception has occurred, use %tb to see the full traceback.\n",
      "\u001b[31mSystemExit\u001b[39m\n"
     ]
    },
    {
     "name": "stderr",
     "output_type": "stream",
     "text": [
      "C:\\Users\\LeonardDanielsenRørv\\AppData\\Roaming\\Python\\Python313\\site-packages\\IPython\\core\\interactiveshell.py:3675: UserWarning: To exit: use 'exit', 'quit', or Ctrl-D.\n",
      "  warn(\"To exit: use 'exit', 'quit', or Ctrl-D.\", stacklevel=1)\n"
     ]
    },
    {
     "ename": "",
     "evalue": "",
     "output_type": "error",
     "traceback": [
      "\u001b[1;31mThe Kernel crashed while executing code in the current cell or a previous cell. \n",
      "\u001b[1;31mPlease review the code in the cell(s) to identify a possible cause of the failure. \n",
      "\u001b[1;31mClick <a href='https://aka.ms/vscodeJupyterKernelCrash'>here</a> for more info. \n",
      "\u001b[1;31mView Jupyter <a href='command:jupyter.viewOutput'>log</a> for further details."
     ]
    }
   ],
   "source": [
    "from ursina import *\n",
    "import random\n",
    "\n",
    "app = Ursina()\n",
    "\n",
    "player = Entity(model='cube', color=color.orange, scale=1, position=(0,0,4), collider='box')\n",
    "obstacle = Entity(model='cube', color=color.red, scale=1, position=(0,0,-10), collider='box')\n",
    "\n",
    "camera.position = (0, 10, -20)\n",
    "camera.rotation_x = 30\n",
    "speed = 5\n",
    "\n",
    "def update():\n",
    "    # Player movement\n",
    "    player.x += held_keys['a'] * -5 * time.dt\n",
    "    player.x += held_keys['d'] * 5 * time.dt\n",
    "\n",
    "    # Prevent escaping\n",
    "    player.x = clamp(player.x, -4, 4)\n",
    "\n",
    "    # Move obstacle\n",
    "    obstacle.z += speed * time.dt\n",
    "    if obstacle.z > 6:\n",
    "        obstacle.z = -10\n",
    "        obstacle.x = random.choice([-4, 0, 4])\n",
    "\n",
    "    # Collision detection\n",
    "    if player.intersects(obstacle).hit:\n",
    "        print(\"Game Over\")\n",
    "        application.quit()\n",
    "\n",
    "app.run()"
   ]
  }
 ],
 "metadata": {
  "kernelspec": {
   "display_name": "Python 3",
   "language": "python",
   "name": "python3"
  },
  "language_info": {
   "codemirror_mode": {
    "name": "ipython",
    "version": 3
   },
   "file_extension": ".py",
   "mimetype": "text/x-python",
   "name": "python",
   "nbconvert_exporter": "python",
   "pygments_lexer": "ipython3",
   "version": "3.13.3"
  }
 },
 "nbformat": 4,
 "nbformat_minor": 5
}
